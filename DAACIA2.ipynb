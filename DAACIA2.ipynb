{
 "cells": [
  {
   "cell_type": "code",
   "execution_count": 1,
   "id": "68892bcd",
   "metadata": {},
   "outputs": [],
   "source": [
    "import numpy as np\n",
    "import random\n",
    "from numpy.random import randn"
   ]
  },
  {
   "cell_type": "code",
   "execution_count": 2,
   "id": "76170a31",
   "metadata": {},
   "outputs": [],
   "source": [
    "X = np.array([[0,0,1], [0,1,1], [1,0,1], [1,1,1]])\n",
    "y = np.array([[0], [1], [1], [0]])"
   ]
  },
  {
   "cell_type": "code",
   "execution_count": 3,
   "id": "94a8ed3c",
   "metadata": {},
   "outputs": [],
   "source": [
    "class GenAl:\n",
    "    def __init__(self, num_inputs, num_hidden, num_outputs):\n",
    "        self.num_inputs = num_inputs\n",
    "        self.num_hidden = num_hidden\n",
    "        self.num_outputs = num_outputs\n",
    "        self.hidden_weights = np.random.randn(self.num_inputs, self.num_hidden)\n",
    "        self.output_weights = np.random.randn(self.num_hidden, self.num_outputs)\n",
    "\n",
    "    def sigmoid(self, x):\n",
    "        return 1 / (1 + np.exp(-x))\n",
    "\n",
    "    def predict(self, inputs):\n",
    "        hidden_layer = self.sigmoid(np.dot(inputs, self.hidden_weights))\n",
    "        output_layer = self.sigmoid(np.dot(hidden_layer, self.output_weights))\n",
    "        return output_layer\n",
    "\n",
    "    def calculate_fitness(self, X, y):\n",
    "        predictions = self.predict(X)\n",
    "        fitness = np.sum(np.abs(predictions - y))\n",
    "        return fitness\n",
    "\n",
    "    def crossover(self, other):\n",
    "        child = GenAl(self.num_inputs, self.num_hidden, self.num_outputs)\n",
    "        child.hidden_weights = np.where(np.random.rand(*self.hidden_weights.shape) > 0.5, self.hidden_weights, other.hidden_weights)\n",
    "        child.output_weights = np.where(np.random.rand(*self.output_weights.shape) > 0.5, self.output_weights, other.output_weights)\n",
    "        return child\n",
    "\n",
    "    def mutate(self, mutation_rate):\n",
    "        if np.random.rand() < mutation_rate:\n",
    "            self.hidden_weights += np.random.normal(0, 0.1, self.hidden_weights.shape)\n",
    "        if np.random.rand() < mutation_rate:\n",
    "            self.output_weights += np.random.normal(0, 0.1, self.output_weights.shape)\n",
    "\n",
    "    def train(self, X, y, population_size=10, generations=100, mutation_rate=0.1):\n",
    "        population = [self] * population_size\n",
    "\n",
    "        for generation in range(generations):\n",
    "            fitnesses = [individual.calculate_fitness(X, y) for individual in population]\n",
    "            fittest_idx = np.argmin(fitnesses)\n",
    "            fittest = population[fittest_idx]\n",
    "\n",
    "            if fitnesses[fittest_idx] == 0:\n",
    "                print(\"Solution found in generation\", generation)\n",
    "                break\n",
    "\n",
    "            parents = np.random.choice(population, size=population_size-1, replace=True, p=np.array(fitnesses) / np.sum(fitnesses))\n",
    "            children = [fittest.crossover(parent) for parent in parents]\n",
    "            population = [fittest] + children\n",
    "            for individual in population:\n",
    "                individual.mutate(mutation_rate)\n",
    "\n",
    "        self.hidden_weights = fittest.hidden_weights\n",
    "        self.output_weights = fittest.output_weights\n"
   ]
  },
  {
   "cell_type": "code",
   "execution_count": 4,
   "id": "6eaf31ba",
   "metadata": {},
   "outputs": [],
   "source": [
    "net1 = GenAl(3,2,1)\n",
    "net1.train(X, y)"
   ]
  },
  {
   "cell_type": "code",
   "execution_count": 5,
   "id": "61444527",
   "metadata": {},
   "outputs": [
    {
     "name": "stdout",
     "output_type": "stream",
     "text": [
      "Accuracy: 0.75\n"
     ]
    }
   ],
   "source": [
    "predictions = np.round(net1.predict(X))\n",
    "accuracy = np.mean(predictions == y)\n",
    "print(\"Accuracy:\", accuracy)"
   ]
  },
  {
   "cell_type": "code",
   "execution_count": 6,
   "id": "e67a86b0",
   "metadata": {},
   "outputs": [],
   "source": [
    "class CulAl:\n",
    "    def __init__(self, num_inputs, num_hidden, num_outputs, num_knowledges, knowledge_threshold):\n",
    "        self.num_inputs = num_inputs\n",
    "        self.num_hidden = num_hidden\n",
    "        self.num_outputs = num_outputs\n",
    "        self.num_knowledges = num_knowledges\n",
    "        self.knowledge_threshold = knowledge_threshold\n",
    "        self.hidden_weights = np.random.randn(self.num_inputs, self.num_hidden)\n",
    "        self.output_weights = np.random.randn(self.num_hidden, self.num_outputs)\n",
    "        self.knowledges = []\n",
    "\n",
    "    def sigmoid(self, x):\n",
    "        return 1 / (1 + np.exp(-x))\n",
    "\n",
    "    def predict(self, inputs):\n",
    "        hidden_layer = self.sigmoid(np.dot(inputs, self.hidden_weights))\n",
    "        output_layer = self.sigmoid(np.dot(hidden_layer, self.output_weights))\n",
    "        return output_layer\n",
    "\n",
    "    def calculate_fitness(self, X, y):\n",
    "        predictions = self.predict(X)\n",
    "        fitness = np.sum(np.abs(predictions - y))\n",
    "        return fitness\n",
    "\n",
    "    def update_knowledge(self, X, y):\n",
    "        fitness = self.calculate_fitness(X, y)\n",
    "        if len(self.knowledges) < self.num_knowledges or fitness < max([k[\"fitness\"] for k in self.knowledges]):\n",
    "            self.knowledges.append({\"hidden_weights\": self.hidden_weights.copy(), \"output_weights\": self.output_weights.copy(), \"fitness\": fitness})\n",
    "        self.knowledges = sorted(self.knowledges, key=lambda k: k[\"fitness\"])[:self.num_knowledges]\n",
    "\n",
    "    def inherit_knowledge(self):\n",
    "        if len(self.knowledges) > 0 and self.calculate_fitness(X, y) > self.knowledge_threshold:\n",
    "            best_knowledge = self.knowledges[0]\n",
    "            self.hidden_weights = best_knowledge[\"hidden_weights\"].copy()\n",
    "            self.output_weights = best_knowledge[\"output_weights\"].copy()\n",
    "\n",
    "    def train(self, X, y, population_size=10, generations=100, mutation_rate=0.1):\n",
    "        population = [CulAl(self.num_inputs, self.num_hidden, self.num_outputs, self.num_knowledges, self.knowledge_threshold) for _ in range(population_size)]\n",
    "\n",
    "        for generation in range(generations):\n",
    "            for individual in population:\n",
    "                individual.update_knowledge(X, y)\n",
    "\n",
    "            for individual in population:\n",
    "                individual.inherit_knowledge()\n",
    "\n",
    "            fitnesses = [individual.calculate_fitness(X, y) for individual in population]\n",
    "            fittest_idx = np.argmin(fitnesses)\n",
    "            fittest = population[fittest_idx]\n",
    "\n",
    "            if fitnesses[fittest_idx] == 0:\n",
    "                print(\"Solution found in generation\", generation)\n",
    "                break\n",
    "\n",
    "            parents = np.random.choice(population, size=population_size-1, replace=True, p=np.array(fitnesses) / np.sum(fitnesses))\n",
    "            children = [fittest.crossover(parent) for parent in parents]\n",
    "            population = [fittest] + children\n",
    "            for individual in population:\n",
    "                individual.mutate(mutation_rate)\n",
    "\n",
    "        self.hidden_weights = fittest.hidden_weights\n",
    "        self.output_weights = fittest.output_weights\n",
    "\n",
    "    def crossover(self, other):\n",
    "        child = CulAl(self.num_inputs, self.num_hidden, self.num_outputs, self.num_knowledges, self.knowledge_threshold)\n",
    "        child.hidden_weights = self.hidden_weights.copy()\n",
    "        child.output_weights = other.output_weights.copy()\n",
    "        return child\n",
    "\n",
    "    def mutate(self, mutation_rate):\n",
    "        for i in range(self.num_inputs):\n",
    "            for j in range(self.num_hidden):\n",
    "                if np.random.random() < mutation_rate:\n",
    "                    self.hidden_weights[i,j] += np.random.randn() * 0.1\n",
    "\n",
    "        for i in range(self.num_hidden):\n",
    "            for j in range(self.num_outputs):\n",
    "                if np.random.random() < mutation_rate:\n",
    "                    self.output_weights[i,j] += np.random.randn() * 0.1\n"
   ]
  },
  {
   "cell_type": "code",
   "execution_count": 7,
   "id": "5234e4db",
   "metadata": {},
   "outputs": [],
   "source": [
    "net2 = CulAl(3,2,1,5,0.5)\n",
    "net2.train(X, y)"
   ]
  },
  {
   "cell_type": "code",
   "execution_count": 8,
   "id": "ed13d9d2",
   "metadata": {},
   "outputs": [
    {
     "name": "stdout",
     "output_type": "stream",
     "text": [
      "Accuracy: 0.75\n"
     ]
    }
   ],
   "source": [
    "predictions = np.round(net2.predict(X))\n",
    "accuracy = np.mean(predictions == y)\n",
    "print(\"Accuracy:\", accuracy)"
   ]
  },
  {
   "cell_type": "code",
   "execution_count": 9,
   "id": "9f6ea6e1",
   "metadata": {},
   "outputs": [],
   "source": [
    "def sigmoid(x):\n",
    "    return 1 / (1 + np.exp(-x))\n",
    "\n",
    "def sigmoid_derivative(x):\n",
    "    return x * (1 - x)"
   ]
  },
  {
   "cell_type": "code",
   "execution_count": 10,
   "id": "3405c7bb",
   "metadata": {},
   "outputs": [],
   "source": [
    "class PSO:\n",
    "    \n",
    "    def __init__(self, input_dim, hidden_dim, output_dim):\n",
    "        self.input_dim = input_dim\n",
    "        self.hidden_dim = hidden_dim\n",
    "        self.output_dim = output_dim\n",
    "        self.W1 = np.random.randn(self.input_dim, self.hidden_dim)\n",
    "        self.W2 = np.random.randn(self.hidden_dim, self.output_dim)\n",
    "        \n",
    "\n",
    "    def forward(self, X):\n",
    "        self.z1 = np.dot(X, self.W1)\n",
    "        self.a1 = sigmoid(self.z1)\n",
    "        self.z2 = np.dot(self.a1, self.W2)\n",
    "        self.y_hat = sigmoid(self.z2)\n",
    "        return self.y_hat\n",
    "    \n",
    "    def backward(self, X, y, y_hat):\n",
    "        delta3 = (y_hat - y) * sigmoid_derivative(y_hat)\n",
    "        dW2 = np.dot(self.a1.T, delta3)\n",
    "        delta2 = np.dot(delta3, self.W2.T) * sigmoid_derivative(self.a1)\n",
    "        dW1 = np.dot(X.T, delta2)\n",
    "        return dW1, dW2\n",
    "    \n",
    "    def train(self, X, y, iterations, swarm_size, c1, c2, w):\n",
    "        self.iterations = iterations\n",
    "        self.swarm_size = swarm_size\n",
    "        self.c1 = c1\n",
    "        self.c2 = c2\n",
    "        self.w = w\n",
    "        self.best_weights = np.zeros(self.W1.size + self.W2.size)\n",
    "        self.best_error = np.inf\n",
    "        particles = np.random.uniform(-1, 1, (self.swarm_size, self.W1.size + self.W2.size))\n",
    "        velocities = np.zeros((self.swarm_size, self.W1.size + self.W2.size))\n",
    "        for i in range(self.iterations):\n",
    "            for j in range(self.swarm_size):\n",
    "                self.W1 = particles[j][:self.W1.size].reshape(self.input_dim, self.hidden_dim)\n",
    "                self.W2 = particles[j][self.W1.size:].reshape(self.hidden_dim, self.output_dim)\n",
    "                y_hat = self.forward(X)\n",
    "                error = np.mean(np.square(y - y_hat))\n",
    "                if error < self.best_error:\n",
    "                    self.best_weights = particles[j].copy()\n",
    "                    self.best_error = error\n",
    "                dW1, dW2 = self.backward(X, y, y_hat)\n",
    "                velocity = velocities[j] * self.w + self.c1 * np.random.rand() * (self.best_weights - particles[j]) + self.c2 * np.random.rand() * (self.best_weights - particles[j])\n",
    "                particles[j] += velocity\n",
    "        self.W1 = self.best_weights[:self.W1.size].reshape(self.input_dim, self.hidden_dim)\n",
    "        self.W2 = self.best_weights[self.W1.size:].reshape(self.hidden_dim, self.output_dim)"
   ]
  },
  {
   "cell_type": "code",
   "execution_count": 11,
   "id": "1a70df20",
   "metadata": {},
   "outputs": [],
   "source": [
    "net3 = PSO(input_dim=3, hidden_dim=4, output_dim=1)"
   ]
  },
  {
   "cell_type": "code",
   "execution_count": 12,
   "id": "217a03d3",
   "metadata": {},
   "outputs": [
    {
     "name": "stderr",
     "output_type": "stream",
     "text": [
      "/var/folders/zx/mhdl9f0d1c552plym17cmqym0000gn/T/ipykernel_26800/3668515781.py:2: RuntimeWarning: overflow encountered in exp\n",
      "  return 1 / (1 + np.exp(-x))\n"
     ]
    }
   ],
   "source": [
    "net3.train(X, y, iterations=100, swarm_size=10, c1=2, c2=2, w=0.5)"
   ]
  },
  {
   "cell_type": "code",
   "execution_count": 13,
   "id": "3b3fc0c9",
   "metadata": {},
   "outputs": [
    {
     "name": "stdout",
     "output_type": "stream",
     "text": [
      "Accuracy: 1.0\n"
     ]
    },
    {
     "name": "stderr",
     "output_type": "stream",
     "text": [
      "/var/folders/zx/mhdl9f0d1c552plym17cmqym0000gn/T/ipykernel_26800/3668515781.py:2: RuntimeWarning: overflow encountered in exp\n",
      "  return 1 / (1 + np.exp(-x))\n"
     ]
    }
   ],
   "source": [
    "predictions = np.round(net3.forward(X))\n",
    "accuracy = np.mean(predictions == y)\n",
    "print(\"Accuracy:\", accuracy)"
   ]
  },
  {
   "cell_type": "code",
   "execution_count": 14,
   "id": "1a7f2840",
   "metadata": {},
   "outputs": [],
   "source": [
    "class ACO:\n",
    "    \n",
    "    def __init__(self, input_dim, hidden_dim, output_dim):\n",
    "        self.input_dim = input_dim\n",
    "        self.hidden_dim = hidden_dim\n",
    "        self.output_dim = output_dim\n",
    "        self.W1 = np.random.randn(self.input_dim, self.hidden_dim)\n",
    "        self.W2 = np.random.randn(self.hidden_dim, self.output_dim)\n",
    "        \n",
    "    def forward(self, X):\n",
    "        self.z1 = np.dot(X, self.W1)\n",
    "        self.a1 = sigmoid(self.z1)\n",
    "        self.z2 = np.dot(self.a1, self.W2)\n",
    "        self.y_hat = sigmoid(self.z2)\n",
    "        return self.y_hat\n",
    "    \n",
    "    def backward(self, X, y, y_hat):\n",
    "        delta3 = (y_hat - y) * sigmoid_derivative(y_hat)\n",
    "        dW2 = np.dot(self.a1.T, delta3)\n",
    "        delta2 = np.dot(delta3, self.W2.T) * sigmoid_derivative(self.a1)\n",
    "        dW1 = np.dot(X.T, delta2)\n",
    "        return dW1, dW2\n",
    "    \n",
    "    def train(self, X, y, iterations, num_ants, evaporation_rate, alpha, beta, Q):\n",
    "        self.iterations = iterations\n",
    "        self.num_ants = num_ants\n",
    "        self.evaporation_rate = evaporation_rate\n",
    "        self.alpha = alpha\n",
    "        self.beta = beta\n",
    "        self.Q = Q\n",
    "        self.best_weights = np.zeros(self.W1.size + self.W2.size)\n",
    "        self.best_error = np.inf\n",
    "        pheromones = np.ones((self.W1.size + self.W2.size, 2))\n",
    "        for i in range(self.iterations):\n",
    "            for j in range(self.num_ants):\n",
    "                ant_weights = np.zeros(self.W1.size + self.W2.size)\n",
    "                for k in range(len(ant_weights)):\n",
    "                    if np.random.rand() < pheromones[k][1]:\n",
    "                        ant_weights[k] = np.random.uniform(-1, 1)\n",
    "                    else:\n",
    "                        ant_weights[k] = self.best_weights[k]\n",
    "                self.W1 = ant_weights[:self.W1.size].reshape(self.input_dim, self.hidden_dim)\n",
    "                self.W2 = ant_weights[self.W1.size:].reshape(self.hidden_dim, self.output_dim)\n",
    "                y_hat = self.forward(X)\n",
    "                error = np.mean(np.square(y - y_hat))\n",
    "                if error < self.best_error:\n",
    "                    self.best_weights = ant_weights.copy()\n",
    "                    self.best_error = error\n",
    "                dW1, dW2 = self.backward(X, y, y_hat)\n",
    "                pheromones_update = np.zeros((self.W1.size + self.W2.size, 2))\n",
    "                for k in range(len(pheromones_update)):\n",
    "                    if ant_weights[k] == self.best_weights[k]:\n",
    "                        pheromones_update[k][0] = (1 - self.evaporation_rate) * pheromones[k][0] + self.Q / self.best_error\n",
    "                        pheromones_update[k][1] = self.alpha / (self.alpha + self.beta)\n",
    "                    else:\n",
    "                        pheromones_update[k][0] = (1 - self.evaporation_rate) * pheromones[k][0]\n",
    "                        pheromones_update[k][1] = self.beta / (self.alpha + self.beta)\n",
    "                pheromones = pheromones_update\n",
    "                self.W1 -= self.alpha * dW1\n",
    "                self.W2 -= self.alpha * dW2\n",
    "    \n",
    "    def predict(self, X):\n",
    "        return self.forward(X)"
   ]
  },
  {
   "cell_type": "code",
   "execution_count": 15,
   "id": "10f0543f",
   "metadata": {},
   "outputs": [],
   "source": [
    "net4 = ACO(input_dim=3, hidden_dim=4, output_dim=1)"
   ]
  },
  {
   "cell_type": "code",
   "execution_count": 16,
   "id": "23571ca2",
   "metadata": {},
   "outputs": [],
   "source": [
    "net4.train(X, y, iterations=100, num_ants=10, evaporation_rate=0.2, alpha=0.1, beta=0.9, Q=10)"
   ]
  },
  {
   "cell_type": "code",
   "execution_count": 17,
   "id": "ec7ee785",
   "metadata": {},
   "outputs": [
    {
     "name": "stdout",
     "output_type": "stream",
     "text": [
      "Accuracy: 0.5\n"
     ]
    }
   ],
   "source": [
    "predictions = np.round(net4.forward(X))\n",
    "accuracy = np.mean(predictions == y)\n",
    "print(\"Accuracy:\", accuracy)"
   ]
  },
  {
   "cell_type": "code",
   "execution_count": null,
   "id": "0b9a379f",
   "metadata": {},
   "outputs": [],
   "source": []
  }
 ],
 "metadata": {
  "kernelspec": {
   "display_name": "Python 3 (ipykernel)",
   "language": "python",
   "name": "python3"
  },
  "language_info": {
   "codemirror_mode": {
    "name": "ipython",
    "version": 3
   },
   "file_extension": ".py",
   "mimetype": "text/x-python",
   "name": "python",
   "nbconvert_exporter": "python",
   "pygments_lexer": "ipython3",
   "version": "3.9.13"
  }
 },
 "nbformat": 4,
 "nbformat_minor": 5
}
